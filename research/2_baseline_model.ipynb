{
 "cells": [
  {
   "cell_type": "code",
   "execution_count": 34,
   "metadata": {},
   "outputs": [],
   "source": [
    "import pandas as pd\n",
    "import numpy as np\n",
    "import re\n",
    "import nltk\n",
    "import mlflow\n",
    "from nltk.corpus import stopwords\n",
    "from nltk.stem import WordNetLemmatizer\n",
    "from sklearn.model_selection import train_test_split\n",
    "from sklearn.feature_extraction.text import TfidfVectorizer\n",
    "from sklearn.linear_model import LogisticRegression\n",
    "from sklearn.metrics import accuracy_score, classification_report, confusion_matrix, ConfusionMatrixDisplay\n",
    "import matplotlib.pyplot as plt\n",
    "import seaborn as sns"
   ]
  },
  {
   "cell_type": "code",
   "execution_count": 35,
   "metadata": {},
   "outputs": [
    {
     "name": "stderr",
     "output_type": "stream",
     "text": [
      "[nltk_data] Downloading package stopwords to\n",
      "[nltk_data]     /home/santoshkumarguntupalli/nltk_data...\n",
      "[nltk_data]   Package stopwords is already up-to-date!\n",
      "[nltk_data] Downloading package wordnet to\n",
      "[nltk_data]     /home/santoshkumarguntupalli/nltk_data...\n",
      "[nltk_data]   Package wordnet is already up-to-date!\n"
     ]
    },
    {
     "data": {
      "text/plain": [
       "<Experiment: artifact_location='s3://sentiment-analysis-mlops-08052025/532549804044274163', creation_time=1746701976820, experiment_id='532549804044274163', last_update_time=1746701976820, lifecycle_stage='active', name='Baseline_ML_Experiment', tags={}>"
      ]
     },
     "execution_count": 35,
     "metadata": {},
     "output_type": "execute_result"
    }
   ],
   "source": [
    "# ===============================\n",
    "# Setup\n",
    "# ===============================\n",
    "nltk.download('stopwords')\n",
    "nltk.download('wordnet')\n",
    "\n",
    "important_stopwords = {'not', 'no', 'never', 'but', 'yet', 'however', 'because', 'since', 'if', 'when', 'while', 'unless', 'until', 'still', 'despite', 'though'}\n",
    "stop_words = set(stopwords.words('english')) - important_stopwords\n",
    "lemmatizer = WordNetLemmatizer()\n",
    "\n",
    "mlflow.set_tracking_uri(\"http://ec2-35-177-151-168.eu-west-2.compute.amazonaws.com:5000\")\n",
    "mlflow.set_experiment(\"Baseline_ML_Experiment\")"
   ]
  },
  {
   "cell_type": "code",
   "execution_count": 36,
   "metadata": {},
   "outputs": [],
   "source": [
    "# ===============================\n",
    "# Text Cleaning\n",
    "# ===============================\n",
    "def clean_text(text):\n",
    "    text = text.lower().strip()\n",
    "    text = re.sub(r'http[s]?://\\S+|httpst\\.[a-zA-Z0-9]+', '', text)\n",
    "    text = re.sub(r'\\n', ' ', text)\n",
    "    text = re.sub(r'[^A-Za-z0-9\\s!?.,]', '', text)\n",
    "    words = [lemmatizer.lemmatize(w) for w in text.split() if w not in stop_words]\n",
    "    return ' '.join(words)"
   ]
  },
  {
   "cell_type": "code",
   "execution_count": 37,
   "metadata": {
    "colab": {
     "base_uri": "https://localhost:8080/",
     "height": 206
    },
    "executionInfo": {
     "elapsed": 1399,
     "status": "ok",
     "timestamp": 1737786862811,
     "user": {
      "displayName": "Boktiar Ahmed Bappy",
      "userId": "04790107381113099102"
     },
     "user_tz": -360
    },
    "id": "u3hxNz36b6_7",
    "outputId": "c53a221d-fdf2-4ae8-e9b5-8ad6ba97f6c9"
   },
   "outputs": [],
   "source": [
    "# ===============================\n",
    "# Load Data\n",
    "# ===============================\n",
    "df = pd.read_csv(\"financial_tweets.csv\")\n",
    "df = df.drop(columns=[\"Unnamed: 0\", \"url\"], errors=\"ignore\")\n",
    "df['tweet'] = df['tweet'].apply(clean_text)\n",
    "\n",
    "X = df['tweet']\n",
    "y = df['sentiment']"
   ]
  },
  {
   "cell_type": "code",
   "execution_count": 38,
   "metadata": {},
   "outputs": [],
   "source": [
    "# ===============================\n",
    "# Train-Test Split\n",
    "# ===============================\n",
    "X_train, X_test, y_train, y_test = train_test_split(X, y, stratify=y, test_size=0.2, random_state=42)"
   ]
  },
  {
   "cell_type": "code",
   "execution_count": 39,
   "metadata": {
    "executionInfo": {
     "elapsed": 506,
     "status": "ok",
     "timestamp": 1737786958539,
     "user": {
      "displayName": "Boktiar Ahmed Bappy",
      "userId": "04790107381113099102"
     },
     "user_tz": -360
    },
    "id": "EAKFpLNig7B2"
   },
   "outputs": [],
   "source": [
    "# ===============================\n",
    "# Vectorization\n",
    "# ===============================\n",
    "vectorizer = TfidfVectorizer(max_features=10000, ngram_range=(1, 2), stop_words='english')\n",
    "X_train_vec = vectorizer.fit_transform(X_train)\n",
    "X_test_vec = vectorizer.transform(X_test)"
   ]
  },
  {
   "cell_type": "code",
   "execution_count": 40,
   "metadata": {
    "colab": {
     "base_uri": "https://localhost:8080/",
     "height": 653
    },
    "executionInfo": {
     "elapsed": 98456,
     "status": "ok",
     "timestamp": 1737787291621,
     "user": {
      "displayName": "Boktiar Ahmed Bappy",
      "userId": "04790107381113099102"
     },
     "user_tz": -360
    },
    "id": "7CyCPT6IhWET",
    "outputId": "bc7439da-ae9f-4ad5-9ac2-e07011b480ab"
   },
   "outputs": [
    {
     "name": "stderr",
     "output_type": "stream",
     "text": [
      "\u001b[31m2025/05/08 13:37:20 WARNING mlflow.models.model: Model logged without a signature and input example. Please set `input_example` parameter when logging the model to auto infer the model signature.\u001b[0m\n"
     ]
    },
    {
     "name": "stdout",
     "output_type": "stream",
     "text": [
      "🏃 View run overjoyed-shoat-192 at: http://ec2-35-177-151-168.eu-west-2.compute.amazonaws.com:5000/#/experiments/532549804044274163/runs/e38f38ab96d14942a52e081deb6bd685\n",
      "🧪 View experiment at: http://ec2-35-177-151-168.eu-west-2.compute.amazonaws.com:5000/#/experiments/532549804044274163\n",
      "Logistic Regression baseline complete. Accuracy: 0.7271295445596535\n"
     ]
    },
    {
     "data": {
      "image/png": "[encoded data removed]",
      "text/plain": [
       "<Figure size 800x600 with 2 Axes>"
      ]
     },
     "metadata": {},
     "output_type": "display_data"
    }
   ],
   "source": [
    "# ----------------------\n",
    "# Model Training + MLflow\n",
    "# ----------------------\n",
    "with mlflow.start_run():\n",
    "    mlflow.set_tag(\"pipeline\", \"baseline_tfidf_lr\")\n",
    "    mlflow.set_tag(\"experiment_type\", \"baseline\")\n",
    "    mlflow.set_tag(\"model_type\", \"Logistic Regression\")\n",
    "\n",
    "    # Add a description\n",
    "    mlflow.set_tag(\"description\", \"Baseline LR model for sentiment analysis using tf-idf\")\n",
    "\n",
    "    # Log parameters for the vectorizer\n",
    "    mlflow.log_param(\"vectorizer_type\", \"TfidfVectorizer\")\n",
    "    mlflow.log_param(\"vectorizer_max_features\", vectorizer.max_features)\n",
    "\n",
    "    # Log LR model parameters\n",
    "    mlflow.log_param(\"model_type\", \"LogisticRegression\")\n",
    "    mlflow.log_param(\"C\", 1.0)\n",
    "    mlflow.log_param(\"penalty\", \"l2\")\n",
    "\n",
    "    # Initialize and train the LR model\n",
    "    model = LogisticRegression(\n",
    "        class_weight=\"balanced\",\n",
    "        C=1.0,\n",
    "        penalty=\"l2\",\n",
    "        max_iter=1000,\n",
    "        solver=\"lbfgs\",\n",
    "        random_state=42\n",
    "    )\n",
    "    model.fit(X_train_vec, y_train)\n",
    "\n",
    "    # Make predictions on the test set\n",
    "    y_pred = model.predict(X_test_vec)\n",
    "\n",
    "    # Log metrics for each class and accuracy\n",
    "    accuracy = accuracy_score(y_test, y_pred)\n",
    "    mlflow.log_metric(\"accuracy\", accuracy)\n",
    "\n",
    "    # Classification report logging\n",
    "    report = classification_report(y_test, y_pred, output_dict=True)\n",
    "    for label, scores in report.items():\n",
    "        if isinstance(scores, dict):\n",
    "            for metric, score in scores.items():\n",
    "                mlflow.log_metric(f\"{label}_{metric}\", score)\n",
    "\n",
    "    # Confusion matrix\n",
    "    cm = confusion_matrix(y_test, y_pred)\n",
    "    fig, ax = plt.subplots(figsize=(8, 6))\n",
    "    sns.heatmap(cm, annot=True, fmt=\"d\", cmap=\"Blues\", ax=ax)\n",
    "    ax.set_title(\"Confusion Matrix\")\n",
    "    ax.set_xlabel(\"Predicted\")\n",
    "    ax.set_ylabel(\"Actual\")\n",
    "    \n",
    "    # Save and log the confusion matrix plot\n",
    "    fig.savefig(\"conf_matrix_lr.png\")\n",
    "    mlflow.log_artifact(\"conf_matrix_lr.png\")\n",
    "\n",
    "    # Log the Random Forest model\n",
    "    mlflow.sklearn.log_model(model, \"logistic_regression_model\")\n",
    "\n",
    "    #log the dataset\n",
    "    df.to_csv(\"financial_tweets_cleaned.csv\", index=False)\n",
    "    mlflow.log_artifact(\"financial_tweets_cleaned.csv\")\n",
    "\n",
    "# Display final accuracy\n",
    "print(\"Logistic Regression baseline complete. Accuracy:\", accuracy)"
   ]
  },
  {
   "cell_type": "code",
   "execution_count": 41,
   "metadata": {
    "colab": {
     "base_uri": "https://localhost:8080/"
    },
    "executionInfo": {
     "elapsed": 577,
     "status": "ok",
     "timestamp": 1737787307671,
     "user": {
      "displayName": "Boktiar Ahmed Bappy",
      "userId": "04790107381113099102"
     },
     "user_tz": -360
    },
    "id": "4dEHQmkMcbsF",
    "outputId": "bb452f5a-13af-484d-c269-0d534d32a7b6"
   },
   "outputs": [
    {
     "name": "stdout",
     "output_type": "stream",
     "text": [
      "              precision    recall  f1-score   support\n",
      "\n",
      "           0       0.71      0.77      0.74      2436\n",
      "           1       0.81      0.73      0.77      3474\n",
      "           2       0.61      0.67      0.64      1709\n",
      "\n",
      "    accuracy                           0.73      7619\n",
      "   macro avg       0.71      0.72      0.71      7619\n",
      "weighted avg       0.73      0.73      0.73      7619\n",
      "\n"
     ]
    }
   ],
   "source": [
    "print(classification_report(y_test, y_pred))"
   ]
  }
 ],
 "metadata": {
  "colab": {
   "provenance": []
  },
  "kernelspec": {
   "display_name": "myenv",
   "language": "python",
   "name": "python3"
  },
  "language_info": {
   "codemirror_mode": {
    "name": "ipython",
    "version": 3
   },
   "file_extension": ".py",
   "mimetype": "text/x-python",
   "name": "python",
   "nbconvert_exporter": "python",
   "pygments_lexer": "ipython3",
   "version": "3.11.11"
  }
 },
 "nbformat": 4,
 "nbformat_minor": 0
}
